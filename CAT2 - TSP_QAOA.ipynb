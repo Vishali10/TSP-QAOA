{
 "cells": [
  {
   "cell_type": "code",
   "execution_count": 30,
   "id": "24b0940b-8b99-48c6-a29a-63f4cbf30b23",
   "metadata": {},
   "outputs": [],
   "source": [
    "%matplotlib inline\n",
    "# Importing standard Qiskit libraries and configuring account\n",
    "from qiskit import QuantumCircuit, execute, Aer, IBMQ\n",
    "from qiskit.compiler import transpile, assemble\n",
    "from qiskit.tools.jupyter import *\n",
    "from qiskit.visualization import *\n",
    "#visualization tools\n",
    "import matplotlib.pyplot as plt\n",
    "import matplotlib.axes as axes\n",
    "#other tool\n",
    "import numpy as np\n",
    "import networkx as nx\n",
    "from itertools import permutations\n",
    "#quadratic program\n",
    "from qiskit.optimization import QuadraticProgram\n",
    "#TSP libraries\n",
    "from qiskit.optimization.applications.ising import tsp\n",
    "from qiskit.optimization.applications.ising.common import sample_most_likely\n",
    "from qiskit_optimization.applications import Maxcut, Tsp\n",
    "#quantum computing optimization\n",
    "\n",
    "# from qiskit.optimization.converters import IsingToQuadraticProgram\n",
    "from qiskit.aqua.algorithms import VQE, QAOA, NumPyMinimumEigensolver\n",
    "from qiskit.optimization.algorithms import MinimumEigenOptimizer\n",
    "from qiskit_optimization.converters import QuadraticProgramToQubo\n",
    "\n",
    "\n"
   ]
  },
  {
   "cell_type": "code",
   "execution_count": 31,
   "id": "70f19cf8-fb87-4320-8a10-5fe803ce0246",
   "metadata": {},
   "outputs": [],
   "source": [
    "def draw_graph(G, colors, pos):\n",
    "    default_axes = plt.axes(frameon=True)\n",
    "    nx.draw_networkx(G, node_color=colors, node_size=600, alpha=.8, ax=default_axes, pos=pos)\n",
    "    edge_labels = nx.get_edge_attributes(G, 'weight')\n",
    "    nx.draw_networkx_edge_labels(G, pos=pos, edge_labels=edge_labels)"
   ]
  },
  {
   "cell_type": "code",
   "execution_count": 32,
   "id": "e3a2be1d-b355-4634-8cab-c804f8299497",
   "metadata": {},
   "outputs": [
    {
     "name": "stdout",
     "output_type": "stream",
     "text": [
      "distance\n",
      " [[ 0. 48. 91.]\n",
      " [48.  0. 63.]\n",
      " [91. 63.  0.]]\n"
     ]
    },
    {
     "data": {
      "image/png": "[encoded data removed]",
      "text/plain": [
       "<Figure size 432x288 with 1 Axes>"
      ]
     },
     "metadata": {},
     "output_type": "display_data"
    }
   ],
   "source": [
    "n = 3\n",
    "num_qubits = n ** 2\n",
    "ins = Tsp.create_random_instance(n, seed=123)\n",
    "adj_matrix = nx.to_numpy_matrix(ins.graph)\n",
    "print('distance\\n', adj_matrix)\n",
    "\n",
    "colors = ['r' for node in ins.graph.nodes]\n",
    "pos = [ins.graph.nodes[node]['pos']  for node in ins.graph.nodes]\n",
    "draw_graph(ins.graph, colors, pos)"
   ]
  },
  {
   "cell_type": "code",
   "execution_count": 33,
   "id": "9c74aa66-bff1-4f85-ab5f-102e011edcf3",
   "metadata": {},
   "outputs": [
    {
     "name": "stdout",
     "output_type": "stream",
     "text": [
      "Quantum Solution :\n",
      "3\n",
      "[[1. 0.]\n",
      " [2. 0.]\n",
      " [3. 0.]]\n",
      "Route length:  202.0\n",
      "X : [0. 0. 1. 1. 0. 0. 0. 1. 0.]\n",
      "Route:  [2. 0. 1.]\n"
     ]
    },
    {
     "data": {
      "image/png": "[encoded data removed]",
      "text/plain": [
       "<Figure size 432x288 with 1 Axes>"
      ]
     },
     "metadata": {},
     "output_type": "display_data"
    }
   ],
   "source": [
    "\n",
    "\n",
    "\n",
    "#function for solving the TSP with brute force, i.e. generate all permutations and calc distances\n",
    "def brute_force_tsp(w):\n",
    "    N = len(w)\n",
    "    #generate tuples with all permutation of numbers 1,2...N-1\n",
    "    #first index is zero but we want to start our travel in the first city (i.e. with index 0)\n",
    "    a = list(permutations(range(1,N)))\n",
    "    \n",
    "    best_dist = 1e10 #distance at begining\n",
    "    \n",
    "    for i in a: #for all permutations\n",
    "        distance = 0\n",
    "        pre_j = 0 #starting in city 0\n",
    "        for j in i: #for each element of a permutation\n",
    "            distance = distance + w[pre_j,j] #going from one city to another\n",
    "            pre_j = j #save previous city\n",
    "        distance = distance + w[pre_j,0] #going back to city 0\n",
    "        order = (0,) + i #route description (i is permutation, 0 at the begining - the first city)\n",
    "        print('Order: ', order, ' Distance: ', distance) #show solutions\n",
    "        if distance < best_dist:\n",
    "            best_dist = distance\n",
    "            best_order = order           \n",
    "        \n",
    "    print('Route length: ', best_dist)\n",
    "    print('Route: ', best_order)    \n",
    "    \n",
    "    return best_dist, best_order\n",
    "\n",
    "#showing resulting route in graph\n",
    "def show_tsp_graph(route):\n",
    "    n = len(route)\n",
    "    #showing the route in graph\n",
    "    G = nx.Graph() #graph\n",
    "    G.add_nodes_from(range(0,n)) #add nodes\n",
    "    #adding edges based on solution    \n",
    "    for i in range(0,n-1):\n",
    "        G.add_edge(route[i], route[i+1])\n",
    "    G.add_edge(route[n-1], 0)\n",
    "    nx.draw_networkx(G) #show graph\n",
    "\n",
    "#decoding binary output of QAOA to actual solution\n",
    "def decodeQAOAresults(res):\n",
    "    n = int(len(res)**0.5)\n",
    "    results = np.zeros(n)\n",
    "    k = 0\n",
    "    for i in range(0,n): #each n elements refers to one time point i\n",
    "        for j in range(0,n): #in each time points there are all cities\n",
    "            #when x = 1 then the city j is visited in ith time point\n",
    "            if res[k] == 1: results[i] = j\n",
    "            k = k + 1\n",
    "    return results\n",
    "\n",
    "def tspQuantumSolver(distances, backendName):\n",
    "    citiesNumber = len(distances)\n",
    "    \n",
    "    print(citiesNumber)\n",
    "    coordinates = np.zeros([citiesNumber, 2])\n",
    "   \n",
    "    for i in range(0, citiesNumber): coordinates[i][0] = i + 1\n",
    "    print(coordinates)\n",
    "    \n",
    "    tspTask = tsp.TspData(name = 'TSP', dim = citiesNumber, w = distances, coord = coordinates)\n",
    "    \n",
    "    isingHamiltonian, offset = tsp.get_operator(tspTask)\n",
    "    \n",
    "    tspQubo = QuadraticProgram()\n",
    "    tspQubo.from_ising(isingHamiltonian, offset)\n",
    "    \n",
    "    \n",
    "    quantumProcessor = Aer.backends(name = backendName)[0]\n",
    "    qaoa = MinimumEigenOptimizer(QAOA(quantum_instance = quantumProcessor))\n",
    "    results = qaoa.solve(tspQubo)\n",
    "    print('Route length: ', results.fval)\n",
    "    print(\"X :\", results.x)\n",
    "    route = decodeQAOAresults(results.x)\n",
    "    print('Route: ', route)\n",
    "    \n",
    "    return results.fval, route\n",
    "\n",
    "\n",
    "\n",
    "def draw_tsp_solution(G, order, colors, pos):\n",
    "    G2 = nx.DiGraph()\n",
    "    G2.add_nodes_from(G)\n",
    "    n = len(order)\n",
    "    for i in range(n):\n",
    "        j = (i + 1) % n\n",
    "        G2.add_edge(order[i], order[j], weight=G[order[i]][order[j]]['weight'])\n",
    "    default_axes = plt.axes(frameon=True)\n",
    "    nx.draw_networkx(G2, node_color=colors, edge_color='b', node_size=600, alpha=.8, ax=default_axes, pos=pos)\n",
    "    edge_labels = nx.get_edge_attributes(G2, 'weight')\n",
    "    nx.draw_networkx_edge_labels(G2, pos, font_color='b', edge_labels=edge_labels)\n",
    "\n",
    "#quantum solution\n",
    "print(\"Quantum Solution :\")\n",
    "lengthQuantum, routeQuantum = tspQuantumSolver(adj_matrix, 'qasm_simulator')\n",
    "show_tsp_graph(routeQuantum)\n",
    "# draw_tsp_solution(ins.graph, routeQuantum, colors, pos)\n",
    "\n"
   ]
  },
  {
   "cell_type": "code",
   "execution_count": 34,
   "id": "861b2d04-99a7-4c21-bdc4-04b19def726a",
   "metadata": {},
   "outputs": [
    {
     "name": "stdout",
     "output_type": "stream",
     "text": [
      "Brute Force :\n",
      "Order:  (0, 1, 2)  Distance:  202.0\n",
      "Order:  (0, 2, 1)  Distance:  202.0\n",
      "Route length:  202.0\n",
      "Route:  (0, 1, 2)\n"
     ]
    },
    {
     "data": {
      "image/png": "[encoded data removed]",
      "text/plain": [
       "<Figure size 432x288 with 1 Axes>"
      ]
     },
     "metadata": {},
     "output_type": "display_data"
    }
   ],
   "source": [
    "# brute force solution\n",
    "print(\"Brute Force :\")\n",
    "lengthBrute, routeBrute = brute_force_tsp(adj_matrix)\n",
    "show_tsp_graph(routeBrute)\n",
    "# draw_tsp_solution(ins.graph, routeBrute, colors, pos)"
   ]
  },
  {
   "cell_type": "code",
   "execution_count": null,
   "id": "50944400-f773-4ec6-acfc-e3686c423da1",
   "metadata": {},
   "outputs": [],
   "source": []
  },
  {
   "cell_type": "code",
   "execution_count": null,
   "id": "ebbfa27a-0990-49f4-a297-ccce2f285512",
   "metadata": {},
   "outputs": [],
   "source": []
  }
 ],
 "metadata": {
  "kernelspec": {
   "display_name": "Qiskit v0.32.1 (ipykernel)",
   "language": "python",
   "name": "python3"
  },
  "language_info": {
   "codemirror_mode": {
    "name": "ipython",
    "version": 3
   },
   "file_extension": ".py",
   "mimetype": "text/x-python",
   "name": "python",
   "nbconvert_exporter": "python",
   "pygments_lexer": "ipython3",
   "version": "3.8.10"
  },
  "widgets": {
   "application/vnd.jupyter.widget-state+json": {
    "state": {
     "000825a8d2714f22a9e65b54403d7371": {
      "model_module": "@jupyter-widgets/controls",
      "model_module_version": "1.5.0",
      "model_name": "HTMLModel",
      "state": {
       "layout": "IPY_MODEL_15941758566f49499a999cd554af85c4",
       "style": "IPY_MODEL_1488ae285bbd48e6862dcc4ea4d5eb88",
       "value": "<h5>Queue</h5>"
      }
     },
     "1488ae285bbd48e6862dcc4ea4d5eb88": {
      "model_module": "@jupyter-widgets/controls",
      "model_module_version": "1.5.0",
      "model_name": "DescriptionStyleModel",
      "state": {
       "description_width": ""
      }
     },
     "15941758566f49499a999cd554af85c4": {
      "model_module": "@jupyter-widgets/base",
      "model_module_version": "1.2.0",
      "model_name": "LayoutModel",
      "state": {
       "width": "70px"
      }
     },
     "18789113d0254f8c94632e017b97c7df": {
      "model_module": "@jupyter-widgets/controls",
      "model_module_version": "1.5.0",
      "model_name": "ButtonModel",
      "state": {
       "button_style": "primary",
       "description": "Clear",
       "layout": "IPY_MODEL_bf01292cc4a946dd94ccffaf92d77c91",
       "style": "IPY_MODEL_47e7f208b5434964a627abe50c62b52d"
      }
     },
     "21af1b56b6d94caf957afe26f395e87f": {
      "model_module": "@jupyter-widgets/controls",
      "model_module_version": "1.5.0",
      "model_name": "HTMLModel",
      "state": {
       "layout": "IPY_MODEL_48c5c871764741b0a3e6a4043c714cd6",
       "style": "IPY_MODEL_3c917318b7a2412d9c39a1b7f318a46e",
       "value": "<h5>Job ID</h5>"
      }
     },
     "3454234b983442f889f0959236bc21aa": {
      "model_module": "@jupyter-widgets/base",
      "model_module_version": "1.2.0",
      "model_name": "LayoutModel",
      "state": {
       "grid_template_areas": "\n                                       \". . . . right \"\n                                        ",
       "grid_template_columns": "20% 20% 20% 20% 20%",
       "width": "100%"
      }
     },
     "3c917318b7a2412d9c39a1b7f318a46e": {
      "model_module": "@jupyter-widgets/controls",
      "model_module_version": "1.5.0",
      "model_name": "DescriptionStyleModel",
      "state": {
       "description_width": ""
      }
     },
     "47e7f208b5434964a627abe50c62b52d": {
      "model_module": "@jupyter-widgets/controls",
      "model_module_version": "1.5.0",
      "model_name": "ButtonStyleModel",
      "state": {}
     },
     "48c5c871764741b0a3e6a4043c714cd6": {
      "model_module": "@jupyter-widgets/base",
      "model_module_version": "1.2.0",
      "model_name": "LayoutModel",
      "state": {
       "width": "190px"
      }
     },
     "689de3ced17d47cc94918b3834a4f88b": {
      "model_module": "@jupyter-widgets/controls",
      "model_module_version": "1.5.0",
      "model_name": "DescriptionStyleModel",
      "state": {
       "description_width": ""
      }
     },
     "6bbf3c510fe54411a025e7e8f52fa44b": {
      "model_module": "@jupyter-widgets/controls",
      "model_module_version": "1.5.0",
      "model_name": "HTMLModel",
      "state": {
       "layout": "IPY_MODEL_ef66a5e836fb4e4786b298f628fd5c3f",
       "style": "IPY_MODEL_a5bb999d71734d1cb7fc279fbce2984a",
       "value": "<h5>Backend</h5>"
      }
     },
     "6cb47da719d74491873ac8f831e70018": {
      "model_module": "@jupyter-widgets/base",
      "model_module_version": "1.2.0",
      "model_name": "LayoutModel",
      "state": {
       "width": "95px"
      }
     },
     "730a9473144545deae30db11a34cd69c": {
      "model_module": "@jupyter-widgets/base",
      "model_module_version": "1.2.0",
      "model_name": "LayoutModel",
      "state": {
       "margin": "0px 0px 0px 37px",
       "width": "600px"
      }
     },
     "87b813a715614d10b79ad86e81dff9e8": {
      "model_module": "@jupyter-widgets/controls",
      "model_module_version": "1.5.0",
      "model_name": "DescriptionStyleModel",
      "state": {
       "description_width": ""
      }
     },
     "89b2a0cad76c4adc89d5b7e6dd26a23d": {
      "model_module": "@jupyter-widgets/base",
      "model_module_version": "1.2.0",
      "model_name": "LayoutModel",
      "state": {}
     },
     "92751cd6d73949029194a219d9e5e1a6": {
      "model_module": "@jupyter-widgets/base",
      "model_module_version": "1.2.0",
      "model_name": "LayoutModel",
      "state": {
       "margin": "0px 0px 10px 0px"
      }
     },
     "a5bb999d71734d1cb7fc279fbce2984a": {
      "model_module": "@jupyter-widgets/controls",
      "model_module_version": "1.5.0",
      "model_name": "DescriptionStyleModel",
      "state": {
       "description_width": ""
      }
     },
     "a96d2b3bba8e4054a8eaf767ac9a86dc": {
      "model_module": "@jupyter-widgets/controls",
      "model_module_version": "1.5.0",
      "model_name": "DescriptionStyleModel",
      "state": {
       "description_width": ""
      }
     },
     "aa60172369c740fcbe6f9e829f00cfb8": {
      "model_module": "@jupyter-widgets/controls",
      "model_module_version": "1.5.0",
      "model_name": "HBoxModel",
      "state": {
       "children": [
        "IPY_MODEL_21af1b56b6d94caf957afe26f395e87f",
        "IPY_MODEL_6bbf3c510fe54411a025e7e8f52fa44b",
        "IPY_MODEL_ff5ae3315ad443ad8845445e4c5b80be",
        "IPY_MODEL_000825a8d2714f22a9e65b54403d7371",
        "IPY_MODEL_cba2a235ed2d417f89840f9e07534832"
       ],
       "layout": "IPY_MODEL_730a9473144545deae30db11a34cd69c"
      }
     },
     "bf01292cc4a946dd94ccffaf92d77c91": {
      "model_module": "@jupyter-widgets/base",
      "model_module_version": "1.2.0",
      "model_name": "LayoutModel",
      "state": {
       "grid_area": "right",
       "padding": "0px 0px 0px 0px",
       "width": "70px"
      }
     },
     "cba2a235ed2d417f89840f9e07534832": {
      "model_module": "@jupyter-widgets/controls",
      "model_module_version": "1.5.0",
      "model_name": "HTMLModel",
      "state": {
       "layout": "IPY_MODEL_89b2a0cad76c4adc89d5b7e6dd26a23d",
       "style": "IPY_MODEL_689de3ced17d47cc94918b3834a4f88b",
       "value": "<h5>Message</h5>"
      }
     },
     "d2f8d6a80b47475f94c779b57eca8136": {
      "model_module": "@jupyter-widgets/controls",
      "model_module_version": "1.5.0",
      "model_name": "HTMLModel",
      "state": {
       "layout": "IPY_MODEL_92751cd6d73949029194a219d9e5e1a6",
       "style": "IPY_MODEL_87b813a715614d10b79ad86e81dff9e8",
       "value": "<p style='font-family: IBM Plex Sans, Arial, Helvetica, sans-serif; font-size: 20px; font-weight: medium;'>Circuit Properties</p>"
      }
     },
     "e7307c1dfabf488fa80d871959dd7c49": {
      "model_module": "@jupyter-widgets/controls",
      "model_module_version": "1.5.0",
      "model_name": "GridBoxModel",
      "state": {
       "children": [
        "IPY_MODEL_18789113d0254f8c94632e017b97c7df"
       ],
       "layout": "IPY_MODEL_3454234b983442f889f0959236bc21aa"
      }
     },
     "ef66a5e836fb4e4786b298f628fd5c3f": {
      "model_module": "@jupyter-widgets/base",
      "model_module_version": "1.2.0",
      "model_name": "LayoutModel",
      "state": {
       "width": "145px"
      }
     },
     "ff5ae3315ad443ad8845445e4c5b80be": {
      "model_module": "@jupyter-widgets/controls",
      "model_module_version": "1.5.0",
      "model_name": "HTMLModel",
      "state": {
       "layout": "IPY_MODEL_6cb47da719d74491873ac8f831e70018",
       "style": "IPY_MODEL_a96d2b3bba8e4054a8eaf767ac9a86dc",
       "value": "<h5>Status</h5>"
      }
     }
    },
    "version_major": 2,
    "version_minor": 0
   }
  }
 },
 "nbformat": 4,
 "nbformat_minor": 5
}
